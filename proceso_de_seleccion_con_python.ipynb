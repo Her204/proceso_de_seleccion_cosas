{
  "cells": [
    {
      "cell_type": "markdown",
      "metadata": {},
      "source": [
        "# Librerias necesarias para manipular, visualizar y operar datos"
      ]
    },
    {
      "cell_type": "code",
      "execution_count": 3,
      "metadata": {
        "id": "XXD42pZqFUXb"
      },
      "outputs": [],
      "source": [
        "import numpy as np\n",
        "import pandas as pd\n",
        "import matplotlib.pyplot as plt"
      ]
    },
    {
      "cell_type": "markdown",
      "metadata": {},
      "source": [
        "# creacion del tablero de juego en el que se va a simular"
      ]
    },
    {
      "cell_type": "code",
      "execution_count": 4,
      "metadata": {
        "id": "4NYFD9NxFXWE"
      },
      "outputs": [],
      "source": [
        "\n",
        "# Usamos un diccionario o hash table para crear los cuadros del tablero que\n",
        "# avanzan desde 1 a 36.\n",
        "tablero = {k:k for k in range(1,37)}\n",
        "\n",
        "\n",
        "# Definiendo los cuadros que representan una escalera alterando la dinamica\n",
        "# si un jugador cae en la casilla de las llaves del diccionario, su valor final\n",
        "# ascendera al respectivo en la tabla.\n",
        "tablero[3] = 16\n",
        "tablero[5] = 7\n",
        "tablero[15] = 25\n",
        "tablero[18] = 20\n",
        "tablero[21] = 32\n",
        "\n",
        "\n",
        "# Definiendo los cuadros que representan una serpiente alterando la dinamica\n",
        "# si un jugador cae en la casilla de las llaves del diccionario, su valor final \n",
        "# descendera al respectivo en la tabla.\n",
        "tablero[12] = 2\n",
        "tablero[14] = 11\n",
        "tablero[17] = 4\n",
        "tablero[31] = 19\n",
        "tablero[35] = 22\n",
        "\n",
        "\n",
        "\n",
        "# Ordenando el tablero ascendentemente.\n",
        "tablero = {k:v for k,v in sorted(tablero.items())}"
      ]
    },
    {
      "cell_type": "markdown",
      "metadata": {},
      "source": [
        "# creacion de una partida de dos jugadores\n",
        "con todas las reglas sugeridas, utilizando un sistema de numeros aleatorios equiprobable anologo a los dados y\n",
        "con posible configuracion para todos los modos justos de partida que el simulador solicite"
      ]
    },
    {
      "cell_type": "code",
      "execution_count": 5,
      "metadata": {
        "id": "IuaQwCXjHBvU"
      },
      "outputs": [],
      "source": [
        "def juego_1_vs_1(adelantar_posicion_de_jugador_2=False,desactivar_primera_serpiente=False,posicion_de_adelanto_jugador_2=0):\n",
        "\n",
        "    jugador_1_posicion = 0\n",
        "    jugador_2_posicion = posicion_de_adelanto_jugador_2\n",
        "    n_de_serpientes_pasadas = 0\n",
        "    n_de_lanzamiento_de_dados_para_ganar = 0\n",
        "\n",
        "    while True:\n",
        "        n_de_lanzamiento_de_dados_para_ganar +=1\n",
        "        \n",
        "        \n",
        "        if adelantar_posicion_de_jugador_2 and jugador_1_posicion == jugador_2_posicion and jugador_1_posicion==36:\n",
        "            return \"empate\",n_de_serpientes_pasadas,n_de_lanzamiento_de_dados_para_ganar\n",
        "\n",
        "        elif jugador_1_posicion == 36:\n",
        "            return \"gano jugador 1\",n_de_serpientes_pasadas,n_de_lanzamiento_de_dados_para_ganar\n",
        "        \n",
        "        elif jugador_2_posicion == 36:\n",
        "            return \"gano jugador 2\",n_de_serpientes_pasadas,n_de_lanzamiento_de_dados_para_ganar\n",
        "        \n",
        "        else:\n",
        "            dado_1 = np.random.choice(range(1,7),p=[1/6]*6)\n",
        "            dado_2 = np.random.choice(range(1,7),p=[1/6]*6)\n",
        "            \n",
        "            avance_lineal_jugador_1 = jugador_1_posicion+dado_1\n",
        "            avance_lineal_jugador_2 = jugador_2_posicion+dado_2\n",
        "\n",
        "            if desactivar_primera_serpiente and avance_lineal_jugador_2 == 12:\n",
        "                tablero[12] = 12\n",
        "            elif desactivar_primera_serpiente and avance_lineal_jugador_1 == 12:\n",
        "                tablero[12] = 2\n",
        "            \n",
        "            serpientes = [12,14,17,31,35]\n",
        "            \n",
        "            if avance_lineal_jugador_1 in serpientes or avance_lineal_jugador_2 in serpientes:\n",
        "                n_de_serpientes_pasadas+=1 \n",
        "\n",
        "            if avance_lineal_jugador_1<36:\n",
        "                jugador_1_turno = tablero[avance_lineal_jugador_1]\n",
        "            else:\n",
        "                jugador_1_turno = 36\n",
        "            if avance_lineal_jugador_2<36: \n",
        "                jugador_2_turno = tablero[avance_lineal_jugador_2]\n",
        "            else: \n",
        "                jugador_2_turno = 36 \n",
        "            \n",
        "            jugador_1_posicion = jugador_1_turno\n",
        "            jugador_2_posicion = jugador_2_turno\n",
        "            \n",
        "            continue"
      ]
    },
    {
      "cell_type": "markdown",
      "metadata": {},
      "source": [
        "# Funcion de simulacion de n partidas\n",
        "<br> en este caso simulamos diez mil partidas que retornan el historial de partidas donde se almacena informacion como\n",
        " cuantas victorias logro el jugador 1 y 2; asi como empates y derrotas.</br>\n",
        "Tambien mide cuantas veces ambos jugadores cayeron en serpientes por total de partida, \n",
        " asi como el numero de lanzamientos de dados necesarios para que uno de los jugadores gane\n",
        " una partida"
      ]
    },
    {
      "cell_type": "code",
      "execution_count": 6,
      "metadata": {
        "colab": {
          "base_uri": "https://localhost:8080/"
        },
        "id": "pHflmIs3LvoU",
        "outputId": "0c0b2fe3-874c-4ea6-aa2a-d077caaf592f"
      },
      "outputs": [],
      "source": [
        "def simulacion_de_diez_mil_partidas(desactivar_primera_serpiente=False,adelantar_posicion_de_jugador_2=False,posicion_de_adelanto_jugador_2=0):\n",
        "  \n",
        "    historial = pd.DataFrame(index=[\"victorias_1\",\"victorias_2\",\n",
        "                                    \"empates\",\"derrotas_1\",\"derrotas_2\",\"n_serpientes\",\"n_de_lanzamientos_para_ganar\"])\n",
        "\n",
        "    victorias_jugador_1 = 0\n",
        "    empates = 0\n",
        "    victorias_jugador_2 = 0\n",
        "\n",
        "    for a in range(10000):\n",
        "        partida,n_serpientes_pasadas,n_de_lanzamiento_de_dados_para_ganar = juego_1_vs_1(desactivar_primera_serpiente=desactivar_primera_serpiente,\n",
        "                                                                                        adelantar_posicion_de_jugador_2=adelantar_posicion_de_jugador_2,\n",
        "                                                                                        posicion_de_adelanto_jugador_2=posicion_de_adelanto_jugador_2)\n",
        "\n",
        "        if partida == \"gano jugador 1\":\n",
        "            historial[a] = [1,0,0,0,1,n_serpientes_pasadas,n_de_lanzamiento_de_dados_para_ganar]\n",
        "            victorias_jugador_1+=1\n",
        "        \n",
        "        elif partida == \"gano jugador 2\":\n",
        "            historial[a] = [0,1,0,1,0,n_serpientes_pasadas,n_de_lanzamiento_de_dados_para_ganar]\n",
        "            victorias_jugador_2+=1\n",
        "        \n",
        "        else:\n",
        "            historial[a] = [0,0,1,0,0,n_serpientes_pasadas,n_de_lanzamiento_de_dados_para_ganar]\n",
        "            empates += 1\n",
        "\n",
        "\n",
        "    return historial.T"
      ]
    },
    {
      "cell_type": "markdown",
      "metadata": {},
      "source": [
        "# Simulacion de una partida en la que el jugador solo cae en una escalera\n",
        "donde puede caer el 50 % de las veces en el pie de la escalera lo que lo ascenderia o en el fin de la misma lo cual lo dejaria en el mismo lugar."
      ]
    },
    {
      "cell_type": "code",
      "execution_count": 34,
      "metadata": {},
      "outputs": [],
      "source": [
        "def juego_cayendo_solo_escaleras():\n",
        "\n",
        "    posicion = np.random.choice([3,5],p=[0.5,0.5])\n",
        "    n_de_lanzamiento_de_dados_para_ganar = 0\n",
        "\n",
        "    while True:\n",
        "        n_de_lanzamiento_de_dados_para_ganar +=1\n",
        "        inicio_de_escaleras = [3,5,15,18,21]\n",
        "        fin_de_escaleras = [tablero[pp] for pp in inicio_de_escaleras]\n",
        "        caer_en_escalera = inicio_de_escaleras+fin_de_escaleras\n",
        "        caer_en_escalera = sorted(caer_en_escalera)\n",
        "        \n",
        "        df = pd.Series(caer_en_escalera)\n",
        "\n",
        "        if posicion+6>= 36:\n",
        "            return n_de_lanzamiento_de_dados_para_ganar\n",
        "\n",
        "        opciones_de_avance = df[(df>posicion)&(df<=posicion+9)]\n",
        "        siguiente_escalera = np.random.choice(opciones_de_avance.index)\n",
        "        posicion = df[df.index==siguiente_escalera].values[0]\n"
      ]
    },
    {
      "cell_type": "markdown",
      "metadata": {},
      "source": [
        "# Probando mil partidas de la simulacion de solo escaleras"
      ]
    },
    {
      "cell_type": "code",
      "execution_count": 35,
      "metadata": {},
      "outputs": [
        {
          "data": {
            "text/plain": [
              "6.5872"
            ]
          },
          "execution_count": 35,
          "metadata": {},
          "output_type": "execute_result"
        }
      ],
      "source": [
        "veces = [juego_cayendo_solo_escaleras() for a in range(10000)]\n",
        "veces = np.array(veces)\n",
        "\n",
        "veces.mean()"
      ]
    },
    {
      "cell_type": "markdown",
      "metadata": {
        "id": "QFSxBFjLn-m_"
      },
      "source": [
        "# Probabilidad de que el jugado numero 1 gane en base a una simulacion de 10000 partidas"
      ]
    },
    {
      "cell_type": "code",
      "execution_count": 10,
      "metadata": {
        "colab": {
          "base_uri": "https://localhost:8080/"
        },
        "id": "1jO6EB_Tqzou",
        "outputId": "5bd897c2-3dc8-407a-bc0c-fa8fcab54374"
      },
      "outputs": [
        {
          "name": "stderr",
          "output_type": "stream",
          "text": [
            "/tmp/ipykernel_158/1937841432.py:20: PerformanceWarning: DataFrame is highly fragmented.  This is usually the result of calling `frame.insert` many times, which has poor performance.  Consider joining all columns at once using pd.concat(axis=1) instead.  To get a de-fragmented frame, use `newframe = frame.copy()`\n",
            "  historial[a] = [0,1,0,1,0,n_serpientes_pasadas,n_de_lanzamiento_de_dados_para_ganar]\n",
            "/tmp/ipykernel_158/1937841432.py:16: PerformanceWarning: DataFrame is highly fragmented.  This is usually the result of calling `frame.insert` many times, which has poor performance.  Consider joining all columns at once using pd.concat(axis=1) instead.  To get a de-fragmented frame, use `newframe = frame.copy()`\n",
            "  historial[a] = [1,0,0,0,1,n_serpientes_pasadas,n_de_lanzamiento_de_dados_para_ganar]\n"
          ]
        },
        {
          "name": "stdout",
          "output_type": "stream",
          "text": [
            "[0.5261, 0.4739, 0.0, 2.806, 2.246523689362898, 10.8031, 4.109552193600075]\n",
            "[0.5144, 0.4856, 0.0, 3.0045, 2.2580942515681, 10.6902, 3.9495548937045855]\n",
            "[0.5161, 0.4839, 0.0, 3.1207, 2.280537567144974, 10.7558, 4.020395840992753]\n",
            "[0.4907, 0.5093, 0.0, 2.7648, 2.1635501045516583, 10.499, 3.8023472729984102]\n"
          ]
        },
        {
          "data": {
            "text/html": [
              "<div>\n",
              "<style scoped>\n",
              "    .dataframe tbody tr th:only-of-type {\n",
              "        vertical-align: middle;\n",
              "    }\n",
              "\n",
              "    .dataframe tbody tr th {\n",
              "        vertical-align: top;\n",
              "    }\n",
              "\n",
              "    .dataframe thead th {\n",
              "        text-align: right;\n",
              "    }\n",
              "</style>\n",
              "<table border=\"1\" class=\"dataframe\">\n",
              "  <thead>\n",
              "    <tr style=\"text-align: right;\">\n",
              "      <th></th>\n",
              "      <th>probabilidad_de_victoria_jugador_1</th>\n",
              "      <th>probabilidad_de_victoria_jugador_2</th>\n",
              "      <th>probabilidad_de_empate</th>\n",
              "      <th>promedio_de_caidas_en_Serpiente</th>\n",
              "      <th>desviacion_de_caidas_en_serpiente</th>\n",
              "      <th>promedio_de_lanzamientos_para_ganar</th>\n",
              "      <th>desviacion_de_lanzamientos_para_ganar</th>\n",
              "    </tr>\n",
              "  </thead>\n",
              "  <tbody>\n",
              "    <tr>\n",
              "      <th>normal</th>\n",
              "      <td>0.5261</td>\n",
              "      <td>0.4739</td>\n",
              "      <td>0.0</td>\n",
              "      <td>2.8060</td>\n",
              "      <td>2.246524</td>\n",
              "      <td>10.8031</td>\n",
              "      <td>4.109552</td>\n",
              "    </tr>\n",
              "    <tr>\n",
              "      <th>jugador_2_adelantado_5</th>\n",
              "      <td>0.5144</td>\n",
              "      <td>0.4856</td>\n",
              "      <td>0.0</td>\n",
              "      <td>3.0045</td>\n",
              "      <td>2.258094</td>\n",
              "      <td>10.6902</td>\n",
              "      <td>3.949555</td>\n",
              "    </tr>\n",
              "    <tr>\n",
              "      <th>jugador_2_adelantado_6</th>\n",
              "      <td>0.5161</td>\n",
              "      <td>0.4839</td>\n",
              "      <td>0.0</td>\n",
              "      <td>3.1207</td>\n",
              "      <td>2.280538</td>\n",
              "      <td>10.7558</td>\n",
              "      <td>4.020396</td>\n",
              "    </tr>\n",
              "    <tr>\n",
              "      <th>jugador_2_sin_primera_serpiente</th>\n",
              "      <td>0.4907</td>\n",
              "      <td>0.5093</td>\n",
              "      <td>0.0</td>\n",
              "      <td>2.7648</td>\n",
              "      <td>2.163550</td>\n",
              "      <td>10.4990</td>\n",
              "      <td>3.802347</td>\n",
              "    </tr>\n",
              "  </tbody>\n",
              "</table>\n",
              "</div>"
            ],
            "text/plain": [
              "                                 probabilidad_de_victoria_jugador_1  \\\n",
              "normal                                                       0.5261   \n",
              "jugador_2_adelantado_5                                       0.5144   \n",
              "jugador_2_adelantado_6                                       0.5161   \n",
              "jugador_2_sin_primera_serpiente                              0.4907   \n",
              "\n",
              "                                 probabilidad_de_victoria_jugador_2  \\\n",
              "normal                                                       0.4739   \n",
              "jugador_2_adelantado_5                                       0.4856   \n",
              "jugador_2_adelantado_6                                       0.4839   \n",
              "jugador_2_sin_primera_serpiente                              0.5093   \n",
              "\n",
              "                                 probabilidad_de_empate  \\\n",
              "normal                                              0.0   \n",
              "jugador_2_adelantado_5                              0.0   \n",
              "jugador_2_adelantado_6                              0.0   \n",
              "jugador_2_sin_primera_serpiente                     0.0   \n",
              "\n",
              "                                 promedio_de_caidas_en_Serpiente  \\\n",
              "normal                                                    2.8060   \n",
              "jugador_2_adelantado_5                                    3.0045   \n",
              "jugador_2_adelantado_6                                    3.1207   \n",
              "jugador_2_sin_primera_serpiente                           2.7648   \n",
              "\n",
              "                                 desviacion_de_caidas_en_serpiente  \\\n",
              "normal                                                    2.246524   \n",
              "jugador_2_adelantado_5                                    2.258094   \n",
              "jugador_2_adelantado_6                                    2.280538   \n",
              "jugador_2_sin_primera_serpiente                           2.163550   \n",
              "\n",
              "                                 promedio_de_lanzamientos_para_ganar  \\\n",
              "normal                                                       10.8031   \n",
              "jugador_2_adelantado_5                                       10.6902   \n",
              "jugador_2_adelantado_6                                       10.7558   \n",
              "jugador_2_sin_primera_serpiente                              10.4990   \n",
              "\n",
              "                                 desviacion_de_lanzamientos_para_ganar  \n",
              "normal                                                        4.109552  \n",
              "jugador_2_adelantado_5                                        3.949555  \n",
              "jugador_2_adelantado_6                                        4.020396  \n",
              "jugador_2_sin_primera_serpiente                               3.802347  "
            ]
          },
          "execution_count": 10,
          "metadata": {},
          "output_type": "execute_result"
        }
      ],
      "source": [
        "resultado = pd.DataFrame(index=[\"probabilidad_de_victoria_jugador_1\",\"probabilidad_de_victoria_jugador_2\",\"probabilidad_de_empate\",\n",
        "                                \"promedio_de_caidas_en_Serpiente\",\"desviacion_de_caidas_en_serpiente\",\n",
        "                                \"promedio_de_lanzamientos_para_ganar\",\"desviacion_de_lanzamientos_para_ganar\"])\n",
        "\n",
        "modos = [\"normal\",\"jugador_2_adelantado\",\"jugador_2_adelantado\",\"jugador_2_sin_primera_serpiente\"]\n",
        "\n",
        "for i,modo in enumerate(modos):\n",
        "\n",
        "    if modo==\"normal\":\n",
        "        historial = simulacion_de_diez_mil_partidas()\n",
        "    elif modo==\"jugador_2_adelantado\":\n",
        "        modo = modo+f\"_{i+4}\"\n",
        "        historial = simulacion_de_diez_mil_partidas(posicion_de_adelanto_jugador_2=i+4)\n",
        "    else:\n",
        "        historial = simulacion_de_diez_mil_partidas(desactivar_primera_serpiente=True)\n",
        "\n",
        "    probabilidad_de_victoria_jugador_1 = historial.victorias_1.sum()/historial.shape[0]\n",
        "    probabilidad_de_victoria_jugador_2 = historial.victorias_2.sum()/historial.shape[0]\n",
        "    probabilidad_de_empate = historial.empates.sum()/historial.shape[0]\n",
        "    promedio_de_caidas_en_serpiente = historial.n_serpientes.mean()\n",
        "    desviacion_de_caidas_en_serpiente = historial.n_serpientes.std()\n",
        "    promedio_de_lanzamientos_para_ganar = historial.n_de_lanzamientos_para_ganar.mean()\n",
        "    desviacion_de_lanzamientos_para_ganar = historial.n_de_lanzamientos_para_ganar.std()\n",
        "        \n",
        "    valores = [probabilidad_de_victoria_jugador_1,probabilidad_de_victoria_jugador_2,probabilidad_de_empate,\n",
        "            promedio_de_caidas_en_serpiente,desviacion_de_caidas_en_serpiente,\n",
        "            promedio_de_lanzamientos_para_ganar,desviacion_de_lanzamientos_para_ganar]\n",
        "\n",
        "    resultado[modo] = valores\n",
        "\n",
        "    print(valores)\n",
        "\n",
        "resultado.T"
      ]
    },
    {
      "cell_type": "code",
      "execution_count": 11,
      "metadata": {},
      "outputs": [],
      "source": [
        "resultado = resultado.T"
      ]
    },
    {
      "cell_type": "markdown",
      "metadata": {},
      "source": [
        "1.- En una partida de dos personas, cual es la probabiliad que el jugador que empieza gane el juego"
      ]
    },
    {
      "cell_type": "code",
      "execution_count": 13,
      "metadata": {},
      "outputs": [
        {
          "data": {
            "text/plain": [
              "0.5261"
            ]
          },
          "execution_count": 13,
          "metadata": {},
          "output_type": "execute_result"
        }
      ],
      "source": [
        "resultado.iloc[0,0]"
      ]
    },
    {
      "cell_type": "code",
      "execution_count": 14,
      "metadata": {},
      "outputs": [
        {
          "data": {
            "text/html": [
              "<div>\n",
              "<style scoped>\n",
              "    .dataframe tbody tr th:only-of-type {\n",
              "        vertical-align: middle;\n",
              "    }\n",
              "\n",
              "    .dataframe tbody tr th {\n",
              "        vertical-align: top;\n",
              "    }\n",
              "\n",
              "    .dataframe thead th {\n",
              "        text-align: right;\n",
              "    }\n",
              "</style>\n",
              "<table border=\"1\" class=\"dataframe\">\n",
              "  <thead>\n",
              "    <tr style=\"text-align: right;\">\n",
              "      <th></th>\n",
              "      <th>probabilidad_de_victoria_jugador_1</th>\n",
              "      <th>probabilidad_de_victoria_jugador_2</th>\n",
              "      <th>probabilidad_de_empate</th>\n",
              "      <th>promedio_de_caidas_en_Serpiente</th>\n",
              "      <th>desviacion_de_caidas_en_serpiente</th>\n",
              "      <th>promedio_de_lanzamientos_para_ganar</th>\n",
              "      <th>desviacion_de_lanzamientos_para_ganar</th>\n",
              "    </tr>\n",
              "  </thead>\n",
              "  <tbody>\n",
              "    <tr>\n",
              "      <th>normal</th>\n",
              "      <td>0.5261</td>\n",
              "      <td>0.4739</td>\n",
              "      <td>0.0</td>\n",
              "      <td>2.8060</td>\n",
              "      <td>2.246524</td>\n",
              "      <td>10.8031</td>\n",
              "      <td>4.109552</td>\n",
              "    </tr>\n",
              "    <tr>\n",
              "      <th>jugador_2_adelantado_5</th>\n",
              "      <td>0.5144</td>\n",
              "      <td>0.4856</td>\n",
              "      <td>0.0</td>\n",
              "      <td>3.0045</td>\n",
              "      <td>2.258094</td>\n",
              "      <td>10.6902</td>\n",
              "      <td>3.949555</td>\n",
              "    </tr>\n",
              "    <tr>\n",
              "      <th>jugador_2_adelantado_6</th>\n",
              "      <td>0.5161</td>\n",
              "      <td>0.4839</td>\n",
              "      <td>0.0</td>\n",
              "      <td>3.1207</td>\n",
              "      <td>2.280538</td>\n",
              "      <td>10.7558</td>\n",
              "      <td>4.020396</td>\n",
              "    </tr>\n",
              "    <tr>\n",
              "      <th>jugador_2_sin_primera_serpiente</th>\n",
              "      <td>0.4907</td>\n",
              "      <td>0.5093</td>\n",
              "      <td>0.0</td>\n",
              "      <td>2.7648</td>\n",
              "      <td>2.163550</td>\n",
              "      <td>10.4990</td>\n",
              "      <td>3.802347</td>\n",
              "    </tr>\n",
              "  </tbody>\n",
              "</table>\n",
              "</div>"
            ],
            "text/plain": [
              "                                 probabilidad_de_victoria_jugador_1  \\\n",
              "normal                                                       0.5261   \n",
              "jugador_2_adelantado_5                                       0.5144   \n",
              "jugador_2_adelantado_6                                       0.5161   \n",
              "jugador_2_sin_primera_serpiente                              0.4907   \n",
              "\n",
              "                                 probabilidad_de_victoria_jugador_2  \\\n",
              "normal                                                       0.4739   \n",
              "jugador_2_adelantado_5                                       0.4856   \n",
              "jugador_2_adelantado_6                                       0.4839   \n",
              "jugador_2_sin_primera_serpiente                              0.5093   \n",
              "\n",
              "                                 probabilidad_de_empate  \\\n",
              "normal                                              0.0   \n",
              "jugador_2_adelantado_5                              0.0   \n",
              "jugador_2_adelantado_6                              0.0   \n",
              "jugador_2_sin_primera_serpiente                     0.0   \n",
              "\n",
              "                                 promedio_de_caidas_en_Serpiente  \\\n",
              "normal                                                    2.8060   \n",
              "jugador_2_adelantado_5                                    3.0045   \n",
              "jugador_2_adelantado_6                                    3.1207   \n",
              "jugador_2_sin_primera_serpiente                           2.7648   \n",
              "\n",
              "                                 desviacion_de_caidas_en_serpiente  \\\n",
              "normal                                                    2.246524   \n",
              "jugador_2_adelantado_5                                    2.258094   \n",
              "jugador_2_adelantado_6                                    2.280538   \n",
              "jugador_2_sin_primera_serpiente                           2.163550   \n",
              "\n",
              "                                 promedio_de_lanzamientos_para_ganar  \\\n",
              "normal                                                       10.8031   \n",
              "jugador_2_adelantado_5                                       10.6902   \n",
              "jugador_2_adelantado_6                                       10.7558   \n",
              "jugador_2_sin_primera_serpiente                              10.4990   \n",
              "\n",
              "                                 desviacion_de_lanzamientos_para_ganar  \n",
              "normal                                                        4.109552  \n",
              "jugador_2_adelantado_5                                        3.949555  \n",
              "jugador_2_adelantado_6                                        4.020396  \n",
              "jugador_2_sin_primera_serpiente                               3.802347  "
            ]
          },
          "execution_count": 14,
          "metadata": {},
          "output_type": "execute_result"
        }
      ],
      "source": [
        "resultado"
      ]
    },
    {
      "cell_type": "markdown",
      "metadata": {},
      "source": [
        "2.- En promedio, cuantas veces se cae en una serpiente en cada juego "
      ]
    },
    {
      "cell_type": "code",
      "execution_count": 15,
      "metadata": {},
      "outputs": [
        {
          "data": {
            "text/plain": [
              "2.806"
            ]
          },
          "execution_count": 15,
          "metadata": {},
          "output_type": "execute_result"
        }
      ],
      "source": [
        "resultado.iloc[0,3]"
      ]
    },
    {
      "cell_type": "markdown",
      "metadata": {},
      "source": [
        "3.- Si cada vez un jugador llega a una escalera y solo hay un 50% de probabilidad de que la pueda tomar, cual es el numero promedio de intentos necesarios para completar el juego"
      ]
    },
    {
      "cell_type": "code",
      "execution_count": 16,
      "metadata": {},
      "outputs": [
        {
          "data": {
            "text/plain": [
              "6.4922"
            ]
          },
          "execution_count": 16,
          "metadata": {},
          "output_type": "execute_result"
        }
      ],
      "source": [
        "veces.mean()"
      ]
    },
    {
      "cell_type": "markdown",
      "metadata": {},
      "source": [
        "4.- Empezando con el juego base, decides que quieres que el juego tenga apromixamadamente\n",
        "las mismas probabilidades. Haces esto cambiando el cuadrado en el que el jugador dos empieza.\n",
        "En cual cuadrado debe empezar el jugador dos para que se obtenga una probabilidad justa para ambos."
      ]
    },
    {
      "cell_type": "code",
      "execution_count": 29,
      "metadata": {},
      "outputs": [
        {
          "data": {
            "text/plain": [
              "0.4839"
            ]
          },
          "execution_count": 29,
          "metadata": {},
          "output_type": "execute_result"
        }
      ],
      "source": [
        "resultado.iloc[2,1]"
      ]
    },
    {
      "cell_type": "code",
      "execution_count": 27,
      "metadata": {},
      "outputs": [
        {
          "data": {
            "text/plain": [
              "'jugador_2_adelantado_6'"
            ]
          },
          "execution_count": 27,
          "metadata": {},
          "output_type": "execute_result"
        }
      ],
      "source": [
        "resultado.iloc[:,1].index[2]"
      ]
    },
    {
      "cell_type": "markdown",
      "metadata": {},
      "source": [
        "5.- En un intento diferente para cambiar las chances de el juego, en vez de empezar avanzado el jugador 2 en un cuadrado diferente, decides darle al jugador 2 inmunidad a la primera serpiente en la que caiga. Cual es la la probabilidad aproximada que el jugador 1 gane ahora"
      ]
    },
    {
      "cell_type": "code",
      "execution_count": 33,
      "metadata": {},
      "outputs": [
        {
          "data": {
            "text/plain": [
              "0.5093"
            ]
          },
          "execution_count": 33,
          "metadata": {},
          "output_type": "execute_result"
        }
      ],
      "source": [
        "resultado.iloc[-1,1]"
      ]
    },
    {
      "cell_type": "markdown",
      "metadata": {},
      "source": []
    },
    {
      "cell_type": "markdown",
      "metadata": {},
      "source": []
    }
  ],
  "metadata": {
    "colab": {
      "collapsed_sections": [],
      "name": "Copia de proceso_de_seleccion_con_python.ipynb",
      "provenance": []
    },
    "kernelspec": {
      "display_name": "Python 3.9.12 64-bit",
      "language": "python",
      "name": "python3"
    },
    "language_info": {
      "codemirror_mode": {
        "name": "ipython",
        "version": 3
      },
      "file_extension": ".py",
      "mimetype": "text/x-python",
      "name": "python",
      "nbconvert_exporter": "python",
      "pygments_lexer": "ipython3",
      "version": "3.9.12"
    },
    "vscode": {
      "interpreter": {
        "hash": "36cf16204b8548560b1c020c4e8fb5b57f0e4c58016f52f2d4be01e192833930"
      }
    }
  },
  "nbformat": 4,
  "nbformat_minor": 0
}
